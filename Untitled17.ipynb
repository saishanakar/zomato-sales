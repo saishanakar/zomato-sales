{
  "cells": [
    {
      "cell_type": "markdown",
      "metadata": {
        "id": "view-in-github",
        "colab_type": "text"
      },
      "source": [
        "<a href=\"https://colab.research.google.com/github/saishanakar/zomato-sales/blob/main/Untitled17.ipynb\" target=\"_parent\"><img src=\"https://colab.research.google.com/assets/colab-badge.svg\" alt=\"Open In Colab\"/></a>"
      ]
    },
    {
      "cell_type": "code",
      "execution_count": null,
      "metadata": {
        "id": "OULhqdpvGH_Q"
      },
      "outputs": [],
      "source": [
        "import numpy as np\n",
        "import pandas as pd\n"
      ]
    },
    {
      "cell_type": "code",
      "execution_count": null,
      "metadata": {
        "colab": {
          "base_uri": "https://localhost:8080/"
        },
        "id": "9v2oMRjgGywi",
        "outputId": "c58510da-d761-41a2-a2b1-012af2a10665"
      },
      "outputs": [
        {
          "name": "stdout",
          "output_type": "stream",
          "text": [
            "      Restaurant ID           Restaurant Name  Country Code              City  \\\n",
            "0           6317637          Le Petit Souffle           162       Makati City   \n",
            "1           6304287          Izakaya Kikufuji           162       Makati City   \n",
            "2           6300002    Heat - Edsa Shangri-La           162  Mandaluyong City   \n",
            "3           6318506                      Ooma           162  Mandaluyong City   \n",
            "4           6314302               Sambo Kojin           162  Mandaluyong City   \n",
            "...             ...                       ...           ...               ...   \n",
            "9546        5915730              NamlÛ± Gurme           208         ÛÁstanbul   \n",
            "9547        5908749             Ceviz AÛôacÛ±           208         ÛÁstanbul   \n",
            "9548        5915807                     Huqqa           208         ÛÁstanbul   \n",
            "9549        5916112              Aôôk Kahve           208         ÛÁstanbul   \n",
            "9550        5927402  Walter's Coffee Roastery           208         ÛÁstanbul   \n",
            "\n",
            "                                                Address  \\\n",
            "0     Third Floor, Century City Mall, Kalayaan Avenu...   \n",
            "1     Little Tokyo, 2277 Chino Roces Avenue, Legaspi...   \n",
            "2     Edsa Shangri-La, 1 Garden Way, Ortigas, Mandal...   \n",
            "3     Third Floor, Mega Fashion Hall, SM Megamall, O...   \n",
            "4     Third Floor, Mega Atrium, SM Megamall, Ortigas...   \n",
            "...                                                 ...   \n",
            "9546  Kemankeô Karamustafa Paôa Mahallesi, RÛ±htÛ±...   \n",
            "9547  Koôuyolu Mahallesi, Muhittin íìstí_ndaÛô Cadd...   \n",
            "9548  Kuruí_eôme Mahallesi, Muallim Naci Caddesi, N...   \n",
            "9549  Kuruí_eôme Mahallesi, Muallim Naci Caddesi, N...   \n",
            "9550  CafeaÛôa Mahallesi, BademaltÛ± Sokak, No 21/B,...   \n",
            "\n",
            "                                        Locality  \\\n",
            "0      Century City Mall, Poblacion, Makati City   \n",
            "1     Little Tokyo, Legaspi Village, Makati City   \n",
            "2     Edsa Shangri-La, Ortigas, Mandaluyong City   \n",
            "3         SM Megamall, Ortigas, Mandaluyong City   \n",
            "4         SM Megamall, Ortigas, Mandaluyong City   \n",
            "...                                          ...   \n",
            "9546                                    Karakí_y   \n",
            "9547                                   Koôuyolu   \n",
            "9548                                 Kuruí_eôme   \n",
            "9549                                 Kuruí_eôme   \n",
            "9550                                        Moda   \n",
            "\n",
            "                                       Locality Verbose   Longitude  \\\n",
            "0     Century City Mall, Poblacion, Makati City, Mak...  121.027535   \n",
            "1     Little Tokyo, Legaspi Village, Makati City, Ma...  121.014101   \n",
            "2     Edsa Shangri-La, Ortigas, Mandaluyong City, Ma...  121.056831   \n",
            "3     SM Megamall, Ortigas, Mandaluyong City, Mandal...  121.056475   \n",
            "4     SM Megamall, Ortigas, Mandaluyong City, Mandal...  121.057508   \n",
            "...                                                 ...         ...   \n",
            "9546                                Karakí_y, ÛÁstanbul   28.977392   \n",
            "9547                               Koôuyolu, ÛÁstanbul   29.041297   \n",
            "9548                             Kuruí_eôme, ÛÁstanbul   29.034640   \n",
            "9549                             Kuruí_eôme, ÛÁstanbul   29.036019   \n",
            "9550                                    Moda, ÛÁstanbul   29.026016   \n",
            "\n",
            "       Latitude                          Cuisines  ...          Currency  \\\n",
            "0     14.565443        French, Japanese, Desserts  ...  Botswana Pula(P)   \n",
            "1     14.553708                          Japanese  ...  Botswana Pula(P)   \n",
            "2     14.581404  Seafood, Asian, Filipino, Indian  ...  Botswana Pula(P)   \n",
            "3     14.585318                   Japanese, Sushi  ...  Botswana Pula(P)   \n",
            "4     14.584450                  Japanese, Korean  ...  Botswana Pula(P)   \n",
            "...         ...                               ...  ...               ...   \n",
            "9546  41.022793                           Turkish  ...  Turkish Lira(TL)   \n",
            "9547  41.009847   World Cuisine, Patisserie, Cafe  ...  Turkish Lira(TL)   \n",
            "9548  41.055817            Italian, World Cuisine  ...  Turkish Lira(TL)   \n",
            "9549  41.057979                   Restaurant Cafe  ...  Turkish Lira(TL)   \n",
            "9550  40.984776                              Cafe  ...  Turkish Lira(TL)   \n",
            "\n",
            "     Has Table booking Has Online delivery Is delivering now  \\\n",
            "0                  Yes                  No                No   \n",
            "1                  Yes                  No                No   \n",
            "2                  Yes                  No                No   \n",
            "3                   No                  No                No   \n",
            "4                  Yes                  No                No   \n",
            "...                ...                 ...               ...   \n",
            "9546                No                  No                No   \n",
            "9547                No                  No                No   \n",
            "9548                No                  No                No   \n",
            "9549                No                  No                No   \n",
            "9550                No                  No                No   \n",
            "\n",
            "     Switch to order menu Price range  Aggregate rating  Rating color  \\\n",
            "0                      No           3               4.8    Dark Green   \n",
            "1                      No           3               4.5    Dark Green   \n",
            "2                      No           4               4.4         Green   \n",
            "3                      No           4               4.9    Dark Green   \n",
            "4                      No           4               4.8    Dark Green   \n",
            "...                   ...         ...               ...           ...   \n",
            "9546                   No           3               4.1         Green   \n",
            "9547                   No           3               4.2         Green   \n",
            "9548                   No           4               3.7        Yellow   \n",
            "9549                   No           4               4.0         Green   \n",
            "9550                   No           2               4.0         Green   \n",
            "\n",
            "     Rating text Votes  \n",
            "0      Excellent   314  \n",
            "1      Excellent   591  \n",
            "2      Very Good   270  \n",
            "3      Excellent   365  \n",
            "4      Excellent   229  \n",
            "...          ...   ...  \n",
            "9546   Very Good   788  \n",
            "9547   Very Good  1034  \n",
            "9548        Good   661  \n",
            "9549   Very Good   901  \n",
            "9550   Very Good   591  \n",
            "\n",
            "[9551 rows x 21 columns]\n"
          ]
        }
      ],
      "source": [
        "data=pd.read_csv(\"/content/zomato.csv\", encoding='latin-1')\n",
        "print(data)"
      ]
    },
    {
      "cell_type": "code",
      "execution_count": null,
      "metadata": {
        "id": "D2fQSUasHJEH"
      },
      "outputs": [],
      "source": [
        "import numpy as np\n",
        "import pandas as pd\n",
        "\n",
        "data=pd.read_csv(\"/content/zomato.csv\", encoding='latin-1')\n",
        "print(data)"
      ]
    },
    {
      "cell_type": "code",
      "execution_count": null,
      "metadata": {
        "colab": {
          "base_uri": "https://localhost:8080/"
        },
        "id": "t5qBFtSkHAKf",
        "outputId": "0649586a-5c11-4240-a95b-f7de82acad97"
      },
      "outputs": [
        {
          "name": "stdout",
          "output_type": "stream",
          "text": [
            "    Country Code         Country\n",
            "0              1           India\n",
            "1             14       Australia\n",
            "2             30          Brazil\n",
            "3             37          Canada\n",
            "4             94       Indonesia\n",
            "5            148     New Zealand\n",
            "6            162     Phillipines\n",
            "7            166           Qatar\n",
            "8            184       Singapore\n",
            "9            189    South Africa\n",
            "10           191       Sri Lanka\n",
            "11           208          Turkey\n",
            "12           214             UAE\n",
            "13           215  United Kingdom\n",
            "14           216   United States\n"
          ]
        }
      ],
      "source": [
        "dt_country=pd.read_excel(\"/content/Country-Code.xlsx\")\n",
        "print(dt_country)"
      ]
    },
    {
      "cell_type": "code",
      "execution_count": null,
      "metadata": {
        "colab": {
          "base_uri": "https://localhost:8080/"
        },
        "id": "Zd99g5agHga2",
        "outputId": "7b9d63cc-03f8-4261-8ae5-7f320165e5fa"
      },
      "outputs": [
        {
          "name": "stdout",
          "output_type": "stream",
          "text": [
            "<class 'pandas.core.frame.DataFrame'>\n",
            "RangeIndex: 9551 entries, 0 to 9550\n",
            "Data columns (total 21 columns):\n",
            " #   Column                Non-Null Count  Dtype  \n",
            "---  ------                --------------  -----  \n",
            " 0   Restaurant ID         9551 non-null   int64  \n",
            " 1   Restaurant Name       9551 non-null   object \n",
            " 2   Country Code          9551 non-null   int64  \n",
            " 3   City                  9551 non-null   object \n",
            " 4   Address               9551 non-null   object \n",
            " 5   Locality              9551 non-null   object \n",
            " 6   Locality Verbose      9551 non-null   object \n",
            " 7   Longitude             9551 non-null   float64\n",
            " 8   Latitude              9551 non-null   float64\n",
            " 9   Cuisines              9542 non-null   object \n",
            " 10  Average Cost for two  9551 non-null   int64  \n",
            " 11  Currency              9551 non-null   object \n",
            " 12  Has Table booking     9551 non-null   object \n",
            " 13  Has Online delivery   9551 non-null   object \n",
            " 14  Is delivering now     9551 non-null   object \n",
            " 15  Switch to order menu  9551 non-null   object \n",
            " 16  Price range           9551 non-null   int64  \n",
            " 17  Aggregate rating      9551 non-null   float64\n",
            " 18  Rating color          9551 non-null   object \n",
            " 19  Rating text           9551 non-null   object \n",
            " 20  Votes                 9551 non-null   int64  \n",
            "dtypes: float64(3), int64(5), object(13)\n",
            "memory usage: 1.5+ MB\n"
          ]
        }
      ],
      "source": [
        "data.info()"
      ]
    },
    {
      "cell_type": "code",
      "execution_count": null,
      "metadata": {
        "colab": {
          "base_uri": "https://localhost:8080/"
        },
        "id": "iD_qAcDNHmw3",
        "outputId": "a7e851a7-7774-4466-cdfc-70e12ffc1012"
      },
      "outputs": [
        {
          "data": {
            "text/plain": [
              "Restaurant ID           0\n",
              "Restaurant Name         0\n",
              "Country Code            0\n",
              "City                    0\n",
              "Address                 0\n",
              "Locality                0\n",
              "Locality Verbose        0\n",
              "Longitude               0\n",
              "Latitude                0\n",
              "Cuisines                9\n",
              "Average Cost for two    0\n",
              "Currency                0\n",
              "Has Table booking       0\n",
              "Has Online delivery     0\n",
              "Is delivering now       0\n",
              "Switch to order menu    0\n",
              "Price range             0\n",
              "Aggregate rating        0\n",
              "Rating color            0\n",
              "Rating text             0\n",
              "Votes                   0\n",
              "dtype: int64"
            ]
          },
          "execution_count": 8,
          "metadata": {},
          "output_type": "execute_result"
        }
      ],
      "source": [
        "data.isnull().sum()"
      ]
    },
    {
      "cell_type": "code",
      "execution_count": null,
      "metadata": {
        "colab": {
          "base_uri": "https://localhost:8080/"
        },
        "id": "Qq6Yt6WbHyoJ",
        "outputId": "77cc3c4e-ee86-40b3-f98c-131f325fc8ac"
      },
      "outputs": [
        {
          "name": "stdout",
          "output_type": "stream",
          "text": [
            "   Restaurant ID                           Restaurant Name  Country Code  \\\n",
            "0        6317637                          Le Petit Souffle           162   \n",
            "1        6304287                          Izakaya Kikufuji           162   \n",
            "2        6300002                    Heat - Edsa Shangri-La           162   \n",
            "3        6318506                                      Ooma           162   \n",
            "4        6314302                               Sambo Kojin           162   \n",
            "5       18189371                              Din Tai Fung           162   \n",
            "6        6300781                                Buffet 101           162   \n",
            "7        6301290                                   Vikings           162   \n",
            "8        6300010  Spiral - Sofitel Philippine Plaza Manila           162   \n",
            "9        6314987                                  Locavore           162   \n",
            "\n",
            "               City                                            Address  \\\n",
            "0       Makati City  Third Floor, Century City Mall, Kalayaan Avenu...   \n",
            "1       Makati City  Little Tokyo, 2277 Chino Roces Avenue, Legaspi...   \n",
            "2  Mandaluyong City  Edsa Shangri-La, 1 Garden Way, Ortigas, Mandal...   \n",
            "3  Mandaluyong City  Third Floor, Mega Fashion Hall, SM Megamall, O...   \n",
            "4  Mandaluyong City  Third Floor, Mega Atrium, SM Megamall, Ortigas...   \n",
            "5  Mandaluyong City  Ground Floor, Mega Fashion Hall, SM Megamall, ...   \n",
            "6        Pasay City  Building K, SM By The Bay, Sunset Boulevard, M...   \n",
            "7        Pasay City  Building B, By The Bay, Seaside Boulevard, Mal...   \n",
            "8        Pasay City  Plaza Level, Sofitel Philippine Plaza Manila, ...   \n",
            "9        Pasig City  Brixton Technology Center, 10 Brixton Street, ...   \n",
            "\n",
            "                                          Locality  \\\n",
            "0        Century City Mall, Poblacion, Makati City   \n",
            "1       Little Tokyo, Legaspi Village, Makati City   \n",
            "2       Edsa Shangri-La, Ortigas, Mandaluyong City   \n",
            "3           SM Megamall, Ortigas, Mandaluyong City   \n",
            "4           SM Megamall, Ortigas, Mandaluyong City   \n",
            "5           SM Megamall, Ortigas, Mandaluyong City   \n",
            "6  SM by the Bay, Mall of Asia Complex, Pasay City   \n",
            "7  SM by the Bay, Mall of Asia Complex, Pasay City   \n",
            "8      Sofitel Philippine Plaza Manila, Pasay City   \n",
            "9                                        Kapitolyo   \n",
            "\n",
            "                                    Locality Verbose   Longitude   Latitude  \\\n",
            "0  Century City Mall, Poblacion, Makati City, Mak...  121.027535  14.565443   \n",
            "1  Little Tokyo, Legaspi Village, Makati City, Ma...  121.014101  14.553708   \n",
            "2  Edsa Shangri-La, Ortigas, Mandaluyong City, Ma...  121.056831  14.581404   \n",
            "3  SM Megamall, Ortigas, Mandaluyong City, Mandal...  121.056475  14.585318   \n",
            "4  SM Megamall, Ortigas, Mandaluyong City, Mandal...  121.057508  14.584450   \n",
            "5  SM Megamall, Ortigas, Mandaluyong City, Mandal...  121.056314  14.583764   \n",
            "6  SM by the Bay, Mall of Asia Complex, Pasay Cit...  120.979667  14.531333   \n",
            "7  SM by the Bay, Mall of Asia Complex, Pasay Cit...  120.979333  14.540000   \n",
            "8  Sofitel Philippine Plaza Manila, Pasay City, P...  120.980090  14.552990   \n",
            "9                              Kapitolyo, Pasig City  121.056532  14.572041   \n",
            "\n",
            "                             Cuisines  ...          Currency  \\\n",
            "0          French, Japanese, Desserts  ...  Botswana Pula(P)   \n",
            "1                            Japanese  ...  Botswana Pula(P)   \n",
            "2    Seafood, Asian, Filipino, Indian  ...  Botswana Pula(P)   \n",
            "3                     Japanese, Sushi  ...  Botswana Pula(P)   \n",
            "4                    Japanese, Korean  ...  Botswana Pula(P)   \n",
            "5                             Chinese  ...  Botswana Pula(P)   \n",
            "6                     Asian, European  ...  Botswana Pula(P)   \n",
            "7  Seafood, Filipino, Asian, European  ...  Botswana Pula(P)   \n",
            "8             European, Asian, Indian  ...  Botswana Pula(P)   \n",
            "9                            Filipino  ...  Botswana Pula(P)   \n",
            "\n",
            "  Has Table booking Has Online delivery Is delivering now  \\\n",
            "0               Yes                  No                No   \n",
            "1               Yes                  No                No   \n",
            "2               Yes                  No                No   \n",
            "3                No                  No                No   \n",
            "4               Yes                  No                No   \n",
            "5                No                  No                No   \n",
            "6               Yes                  No                No   \n",
            "7               Yes                  No                No   \n",
            "8               Yes                  No                No   \n",
            "9               Yes                  No                No   \n",
            "\n",
            "  Switch to order menu Price range  Aggregate rating  Rating color  \\\n",
            "0                   No           3               4.8    Dark Green   \n",
            "1                   No           3               4.5    Dark Green   \n",
            "2                   No           4               4.4         Green   \n",
            "3                   No           4               4.9    Dark Green   \n",
            "4                   No           4               4.8    Dark Green   \n",
            "5                   No           3               4.4         Green   \n",
            "6                   No           4               4.0         Green   \n",
            "7                   No           4               4.2         Green   \n",
            "8                   No           4               4.9    Dark Green   \n",
            "9                   No           3               4.8    Dark Green   \n",
            "\n",
            "  Rating text Votes  \n",
            "0   Excellent   314  \n",
            "1   Excellent   591  \n",
            "2   Very Good   270  \n",
            "3   Excellent   365  \n",
            "4   Excellent   229  \n",
            "5   Very Good   336  \n",
            "6   Very Good   520  \n",
            "7   Very Good   677  \n",
            "8   Excellent   621  \n",
            "9   Excellent   532  \n",
            "\n",
            "[10 rows x 21 columns]\n"
          ]
        }
      ],
      "source": [
        "print(data.head(10))"
      ]
    },
    {
      "cell_type": "code",
      "execution_count": null,
      "metadata": {
        "colab": {
          "base_uri": "https://localhost:8080/"
        },
        "id": "RAzG0B99IBRX",
        "outputId": "9fb153ad-10c5-4113-8928-9ba4b518f594"
      },
      "outputs": [
        {
          "name": "stdout",
          "output_type": "stream",
          "text": [
            "       Restaurant ID  Country Code    Longitude     Latitude  \\\n",
            "count   9.551000e+03   9551.000000  9551.000000  9551.000000   \n",
            "mean    9.051128e+06     18.365616    64.126574    25.854381   \n",
            "std     8.791521e+06     56.750546    41.467058    11.007935   \n",
            "min     5.300000e+01      1.000000  -157.948486   -41.330428   \n",
            "25%     3.019625e+05      1.000000    77.081343    28.478713   \n",
            "50%     6.004089e+06      1.000000    77.191964    28.570469   \n",
            "75%     1.835229e+07      1.000000    77.282006    28.642758   \n",
            "max     1.850065e+07    216.000000   174.832089    55.976980   \n",
            "\n",
            "       Average Cost for two  Price range  Aggregate rating         Votes  \n",
            "count           9551.000000  9551.000000       9551.000000   9551.000000  \n",
            "mean            1199.210763     1.804837          2.666370    156.909748  \n",
            "std            16121.183073     0.905609          1.516378    430.169145  \n",
            "min                0.000000     1.000000          0.000000      0.000000  \n",
            "25%              250.000000     1.000000          2.500000      5.000000  \n",
            "50%              400.000000     2.000000          3.200000     31.000000  \n",
            "75%              700.000000     2.000000          3.700000    131.000000  \n",
            "max           800000.000000     4.000000          4.900000  10934.000000  \n"
          ]
        }
      ],
      "source": [
        "print(data.describe())"
      ]
    },
    {
      "cell_type": "code",
      "execution_count": null,
      "metadata": {
        "colab": {
          "base_uri": "https://localhost:8080/"
        },
        "id": "E47wChN2IIXd",
        "outputId": "de9a3126-5777-46fa-b062-ccb878679298"
      },
      "outputs": [
        {
          "name": "stdout",
          "output_type": "stream",
          "text": [
            "0\n"
          ]
        }
      ],
      "source": [
        "print(data.duplicated().sum())"
      ]
    },
    {
      "cell_type": "code",
      "execution_count": null,
      "metadata": {
        "colab": {
          "base_uri": "https://localhost:8080/"
        },
        "id": "kFiaQnchIVwF",
        "outputId": "3c8aeb9f-6322-4bed-e660-d46f2630bba4"
      },
      "outputs": [
        {
          "name": "stdout",
          "output_type": "stream",
          "text": [
            "(9551, 21)\n"
          ]
        }
      ],
      "source": [
        "print(data.shape)"
      ]
    },
    {
      "cell_type": "code",
      "execution_count": null,
      "metadata": {
        "colab": {
          "base_uri": "https://localhost:8080/"
        },
        "id": "6_RLB0rOIhGV",
        "outputId": "c20c698c-803d-44db-f8ec-5bd40aa5c7d9"
      },
      "outputs": [
        {
          "name": "stdout",
          "output_type": "stream",
          "text": [
            "<class 'pandas.core.frame.DataFrame'>\n",
            "RangeIndex: 15 entries, 0 to 14\n",
            "Data columns (total 2 columns):\n",
            " #   Column        Non-Null Count  Dtype \n",
            "---  ------        --------------  ----- \n",
            " 0   Country Code  15 non-null     int64 \n",
            " 1   Country       15 non-null     object\n",
            "dtypes: int64(1), object(1)\n",
            "memory usage: 368.0+ bytes\n",
            "None\n"
          ]
        }
      ],
      "source": [
        "print(dt_country.info())"
      ]
    },
    {
      "cell_type": "code",
      "execution_count": null,
      "metadata": {
        "colab": {
          "base_uri": "https://localhost:8080/"
        },
        "id": "0AnJ4gpZIxqp",
        "outputId": "f5128ba8-3bc8-4b6c-a6c8-34cac2fa572f"
      },
      "outputs": [
        {
          "name": "stdout",
          "output_type": "stream",
          "text": [
            "0\n"
          ]
        }
      ],
      "source": [
        "print(dt_country.duplicated().sum())"
      ]
    },
    {
      "cell_type": "code",
      "execution_count": null,
      "metadata": {
        "colab": {
          "background_save": true
        },
        "id": "d_F6djX7Ivwx",
        "outputId": "f06e650d-b457-4c5c-b361-8fcbfd3c2457"
      },
      "outputs": [
        {
          "name": "stdout",
          "output_type": "stream",
          "text": [
            "   Restaurant ID         Restaurant Name  Country Code              City  \\\n",
            "0        6317637        Le Petit Souffle           162       Makati City   \n",
            "1        6304287        Izakaya Kikufuji           162       Makati City   \n",
            "2        6300002  Heat - Edsa Shangri-La           162  Mandaluyong City   \n",
            "3        6318506                    Ooma           162  Mandaluyong City   \n",
            "4        6314302             Sambo Kojin           162  Mandaluyong City   \n",
            "\n",
            "                                             Address  \\\n",
            "0  Third Floor, Century City Mall, Kalayaan Avenu...   \n",
            "1  Little Tokyo, 2277 Chino Roces Avenue, Legaspi...   \n",
            "2  Edsa Shangri-La, 1 Garden Way, Ortigas, Mandal...   \n",
            "3  Third Floor, Mega Fashion Hall, SM Megamall, O...   \n",
            "4  Third Floor, Mega Atrium, SM Megamall, Ortigas...   \n",
            "\n",
            "                                     Locality  \\\n",
            "0   Century City Mall, Poblacion, Makati City   \n",
            "1  Little Tokyo, Legaspi Village, Makati City   \n",
            "2  Edsa Shangri-La, Ortigas, Mandaluyong City   \n",
            "3      SM Megamall, Ortigas, Mandaluyong City   \n",
            "4      SM Megamall, Ortigas, Mandaluyong City   \n",
            "\n",
            "                                    Locality Verbose   Longitude   Latitude  \\\n",
            "0  Century City Mall, Poblacion, Makati City, Mak...  121.027535  14.565443   \n",
            "1  Little Tokyo, Legaspi Village, Makati City, Ma...  121.014101  14.553708   \n",
            "2  Edsa Shangri-La, Ortigas, Mandaluyong City, Ma...  121.056831  14.581404   \n",
            "3  SM Megamall, Ortigas, Mandaluyong City, Mandal...  121.056475  14.585318   \n",
            "4  SM Megamall, Ortigas, Mandaluyong City, Mandal...  121.057508  14.584450   \n",
            "\n",
            "                           Cuisines  ...  Has Table booking  \\\n",
            "0        French, Japanese, Desserts  ...                Yes   \n",
            "1                          Japanese  ...                Yes   \n",
            "2  Seafood, Asian, Filipino, Indian  ...                Yes   \n",
            "3                   Japanese, Sushi  ...                 No   \n",
            "4                  Japanese, Korean  ...                Yes   \n",
            "\n",
            "  Has Online delivery Is delivering now Switch to order menu Price range  \\\n",
            "0                  No                No                   No           3   \n",
            "1                  No                No                   No           3   \n",
            "2                  No                No                   No           4   \n",
            "3                  No                No                   No           4   \n",
            "4                  No                No                   No           4   \n",
            "\n",
            "  Aggregate rating  Rating color  Rating text Votes      Country  \n",
            "0              4.8    Dark Green    Excellent   314  Phillipines  \n",
            "1              4.5    Dark Green    Excellent   591  Phillipines  \n",
            "2              4.4         Green    Very Good   270  Phillipines  \n",
            "3              4.9    Dark Green    Excellent   365  Phillipines  \n",
            "4              4.8    Dark Green    Excellent   229  Phillipines  \n",
            "\n",
            "[5 rows x 22 columns]\n"
          ]
        }
      ],
      "source": [
        "df=pd.merge(data,dt_country,on='Country Code',how='left')\n",
        "print(df.head())"
      ]
    },
    {
      "cell_type": "code",
      "execution_count": null,
      "metadata": {
        "id": "Z_71BxHOJIeK"
      },
      "outputs": [],
      "source": []
    }
  ],
  "metadata": {
    "colab": {
      "provenance": [],
      "authorship_tag": "ABX9TyNT0CjG6PMXJWr+UbtVc49r",
      "include_colab_link": true
    },
    "kernelspec": {
      "display_name": "Python 3",
      "name": "python3"
    },
    "language_info": {
      "name": "python"
    }
  },
  "nbformat": 4,
  "nbformat_minor": 0
}